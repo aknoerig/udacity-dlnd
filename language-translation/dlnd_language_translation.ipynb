{
 "cells": [
  {
   "cell_type": "markdown",
   "metadata": {
    "collapsed": true,
    "deletable": true,
    "editable": true
   },
   "source": [
    "# Language Translation\n",
    "In this project, you’re going to take a peek into the realm of neural network machine translation.  You’ll be training a sequence to sequence model on a dataset of English and French sentences that can translate new sentences from English to French.\n",
    "## Get the Data\n",
    "Since translating the whole language of English to French will take lots of time to train, we have provided you with a small portion of the English corpus."
   ]
  },
  {
   "cell_type": "code",
   "execution_count": 1,
   "metadata": {
    "collapsed": false,
    "deletable": true,
    "editable": true
   },
   "outputs": [],
   "source": [
    "\"\"\"\n",
    "DON'T MODIFY ANYTHING IN THIS CELL\n",
    "\"\"\"\n",
    "import helper\n",
    "import problem_unittests as tests\n",
    "\n",
    "source_path = 'data/small_vocab_en'\n",
    "target_path = 'data/small_vocab_fr'\n",
    "source_text = helper.load_data(source_path)\n",
    "target_text = helper.load_data(target_path)"
   ]
  },
  {
   "cell_type": "markdown",
   "metadata": {
    "deletable": true,
    "editable": true
   },
   "source": [
    "## Explore the Data\n",
    "Play around with view_sentence_range to view different parts of the data."
   ]
  },
  {
   "cell_type": "code",
   "execution_count": 2,
   "metadata": {
    "collapsed": false,
    "deletable": true,
    "editable": true
   },
   "outputs": [
    {
     "name": "stdout",
     "output_type": "stream",
     "text": [
      "Dataset Stats\n",
      "Roughly the number of unique words: 227\n",
      "Number of sentences: 137861\n",
      "Average number of words in a sentence: 13.225277634719028\n",
      "\n",
      "English sentences 10000 to 10010:\n",
      "she dislikes strawberries , grapefruit , and grapes .\n",
      "she dislikes grapes , strawberries , and pears .\n",
      "their least liked fruit is the orange , but our least liked is the lime .\n",
      "china is warm during january , and it is usually quiet in march .\n",
      "you dislike grapefruit , lemons , and pears .\n",
      "that horse is her most feared animal .\n",
      "they like mangoes , strawberries , and peaches.\n",
      "california is sometimes busy during fall , and it is never nice in may .\n",
      "the mango is her favorite fruit , but the banana is my favorite .\n",
      "the grape is your most loved fruit , but the strawberry is our most loved .\n",
      "\n",
      "French sentences 10000 to 10010:\n",
      "elle n'aime les fraises , le pamplemousse et les raisins .\n",
      "elle déteste les raisins , les fraises et les poires .\n",
      "leurs fruits moins aimé est l'orange , mais notre moins aimé est la chaux .\n",
      "chine est chaud en janvier , et il est généralement calme en mars .\n",
      "vous n'aimez pas pamplemousses , les citrons et les poires .\n",
      "ce cheval est son animal le plus redouté .\n",
      "ils aiment les mangues , les fraises et les pêches .\n",
      "californie est parfois occupé à l'automne , et il est jamais agréable en mai .\n",
      "la mangue est son fruit préféré , mais la banane est mon préféré .\n",
      "le raisin est votre fruit le plus aimé , mais la fraise est notre plus aimé.\n"
     ]
    }
   ],
   "source": [
    "view_sentence_range = (10000, 10010)\n",
    "\n",
    "\"\"\"\n",
    "DON'T MODIFY ANYTHING IN THIS CELL\n",
    "\"\"\"\n",
    "import numpy as np\n",
    "\n",
    "print('Dataset Stats')\n",
    "print('Roughly the number of unique words: {}'.format(len({word: None for word in source_text.split()})))\n",
    "\n",
    "sentences = source_text.split('\\n')\n",
    "word_counts = [len(sentence.split()) for sentence in sentences]\n",
    "print('Number of sentences: {}'.format(len(sentences)))\n",
    "print('Average number of words in a sentence: {}'.format(np.average(word_counts)))\n",
    "\n",
    "print()\n",
    "print('English sentences {} to {}:'.format(*view_sentence_range))\n",
    "print('\\n'.join(source_text.split('\\n')[view_sentence_range[0]:view_sentence_range[1]]))\n",
    "print()\n",
    "print('French sentences {} to {}:'.format(*view_sentence_range))\n",
    "print('\\n'.join(target_text.split('\\n')[view_sentence_range[0]:view_sentence_range[1]]))"
   ]
  },
  {
   "cell_type": "markdown",
   "metadata": {
    "deletable": true,
    "editable": true
   },
   "source": [
    "## Implement Preprocessing Function\n",
    "### Text to Word Ids\n",
    "As you did with other RNNs, you must turn the text into a number so the computer can understand it. In the function `text_to_ids()`, you'll turn `source_text` and `target_text` from words to ids.  However, you need to add the `<EOS>` word id at the end of each sentence from `target_text`.  This will help the neural network predict when the sentence should end.\n",
    "\n",
    "You can get the `<EOS>` word id by doing:\n",
    "```python\n",
    "target_vocab_to_int['<EOS>']\n",
    "```\n",
    "You can get other word ids using `source_vocab_to_int` and `target_vocab_to_int`."
   ]
  },
  {
   "cell_type": "code",
   "execution_count": 3,
   "metadata": {
    "collapsed": false,
    "deletable": true,
    "editable": true
   },
   "outputs": [
    {
     "name": "stdout",
     "output_type": "stream",
     "text": [
      "Tests Passed\n"
     ]
    }
   ],
   "source": [
    "def text_to_ids(source_text, target_text, source_vocab_to_int, target_vocab_to_int):\n",
    "    \"\"\"\n",
    "    Convert source and target text to proper word ids\n",
    "    :param source_text: String that contains all the source text.\n",
    "    :param target_text: String that contains all the target text.\n",
    "    :param source_vocab_to_int: Dictionary to go from the source words to an id\n",
    "    :param target_vocab_to_int: Dictionary to go from the target words to an id\n",
    "    :return: A tuple of lists (source_id_text, target_id_text)\n",
    "    \"\"\"\n",
    "    # TODO: Implement Function\n",
    "    source_id_text = [[ source_vocab_to_int[word] for word in line.split() ] for line in source_text.split('\\n') ]\n",
    "    target_id_text = [[ target_vocab_to_int[word] for word in line.split() ] for line in target_text.split('\\n') ]\n",
    "    for target_id_line in target_id_text:\n",
    "        target_id_line.append(target_vocab_to_int['<EOS>'])\n",
    "    return source_id_text, target_id_text\n",
    "\n",
    "\"\"\"\n",
    "DON'T MODIFY ANYTHING IN THIS CELL THAT IS BELOW THIS LINE\n",
    "\"\"\"\n",
    "tests.test_text_to_ids(text_to_ids)"
   ]
  },
  {
   "cell_type": "markdown",
   "metadata": {
    "deletable": true,
    "editable": true
   },
   "source": [
    "### Preprocess all the data and save it\n",
    "Running the code cell below will preprocess all the data and save it to file."
   ]
  },
  {
   "cell_type": "code",
   "execution_count": 4,
   "metadata": {
    "collapsed": false,
    "deletable": true,
    "editable": true
   },
   "outputs": [],
   "source": [
    "\"\"\"\n",
    "DON'T MODIFY ANYTHING IN THIS CELL\n",
    "\"\"\"\n",
    "helper.preprocess_and_save_data(source_path, target_path, text_to_ids)"
   ]
  },
  {
   "cell_type": "markdown",
   "metadata": {
    "deletable": true,
    "editable": true
   },
   "source": [
    "# Check Point\n",
    "This is your first checkpoint. If you ever decide to come back to this notebook or have to restart the notebook, you can start from here. The preprocessed data has been saved to disk."
   ]
  },
  {
   "cell_type": "code",
   "execution_count": 5,
   "metadata": {
    "collapsed": false,
    "deletable": true,
    "editable": true
   },
   "outputs": [],
   "source": [
    "\"\"\"\n",
    "DON'T MODIFY ANYTHING IN THIS CELL\n",
    "\"\"\"\n",
    "import numpy as np\n",
    "import helper\n",
    "\n",
    "(source_int_text, target_int_text), (source_vocab_to_int, target_vocab_to_int), _ = helper.load_preprocess()"
   ]
  },
  {
   "cell_type": "markdown",
   "metadata": {
    "deletable": true,
    "editable": true
   },
   "source": [
    "### Check the Version of TensorFlow and Access to GPU\n",
    "This will check to make sure you have the correct version of TensorFlow and access to a GPU"
   ]
  },
  {
   "cell_type": "code",
   "execution_count": 6,
   "metadata": {
    "collapsed": false,
    "deletable": true,
    "editable": true
   },
   "outputs": [
    {
     "name": "stdout",
     "output_type": "stream",
     "text": [
      "TensorFlow Version: 1.0.0\n",
      "Default GPU Device: /gpu:0\n"
     ]
    }
   ],
   "source": [
    "\"\"\"\n",
    "DON'T MODIFY ANYTHING IN THIS CELL\n",
    "\"\"\"\n",
    "from distutils.version import LooseVersion\n",
    "import warnings\n",
    "import tensorflow as tf\n",
    "\n",
    "# Check TensorFlow Version\n",
    "assert LooseVersion(tf.__version__) in [LooseVersion('1.0.0'), LooseVersion('1.0.1')], 'This project requires TensorFlow version 1.0  You are using {}'.format(tf.__version__)\n",
    "print('TensorFlow Version: {}'.format(tf.__version__))\n",
    "\n",
    "# Check for a GPU\n",
    "if not tf.test.gpu_device_name():\n",
    "    warnings.warn('No GPU found. Please use a GPU to train your neural network.')\n",
    "else:\n",
    "    print('Default GPU Device: {}'.format(tf.test.gpu_device_name()))"
   ]
  },
  {
   "cell_type": "markdown",
   "metadata": {
    "deletable": true,
    "editable": true
   },
   "source": [
    "## Build the Neural Network\n",
    "You'll build the components necessary to build a Sequence-to-Sequence model by implementing the following functions below:\n",
    "- `model_inputs`\n",
    "- `process_decoding_input`\n",
    "- `encoding_layer`\n",
    "- `decoding_layer_train`\n",
    "- `decoding_layer_infer`\n",
    "- `decoding_layer`\n",
    "- `seq2seq_model`\n",
    "\n",
    "### Input\n",
    "Implement the `model_inputs()` function to create TF Placeholders for the Neural Network. It should create the following placeholders:\n",
    "\n",
    "- Input text placeholder named \"input\" using the TF Placeholder name parameter with rank 2.\n",
    "- Targets placeholder with rank 2.\n",
    "- Learning rate placeholder with rank 0.\n",
    "- Keep probability placeholder named \"keep_prob\" using the TF Placeholder name parameter with rank 0.\n",
    "\n",
    "Return the placeholders in the following the tuple (Input, Targets, Learing Rate, Keep Probability)"
   ]
  },
  {
   "cell_type": "code",
   "execution_count": 7,
   "metadata": {
    "collapsed": false,
    "deletable": true,
    "editable": true
   },
   "outputs": [
    {
     "name": "stdout",
     "output_type": "stream",
     "text": [
      "Tests Passed\n"
     ]
    }
   ],
   "source": [
    "def model_inputs():\n",
    "    \"\"\"\n",
    "    Create TF Placeholders for input, targets, and learning rate.\n",
    "    :return: Tuple (input, targets, learning rate, keep probability)\n",
    "    \"\"\"\n",
    "    # TODO: Implement Function\n",
    "    inputs = tf.placeholder( tf.int32, [None, None], name=\"input\" )\n",
    "    targets = tf.placeholder( tf.int32, [None, None], name=\"target\" )\n",
    "    learning_rate = tf.placeholder( tf.float32, name=\"learning_rate\" )\n",
    "    keep_prob = tf.placeholder( tf.float32, name=\"keep_prob\" )\n",
    "    return inputs, targets, learning_rate, keep_prob\n",
    "\n",
    "\"\"\"\n",
    "DON'T MODIFY ANYTHING IN THIS CELL THAT IS BELOW THIS LINE\n",
    "\"\"\"\n",
    "tests.test_model_inputs(model_inputs)"
   ]
  },
  {
   "cell_type": "markdown",
   "metadata": {
    "deletable": true,
    "editable": true
   },
   "source": [
    "### Process Decoding Input\n",
    "Implement `process_decoding_input` using TensorFlow to remove the last word id from each batch in `target_data` and concat the GO ID to the beginning of each batch."
   ]
  },
  {
   "cell_type": "code",
   "execution_count": 8,
   "metadata": {
    "collapsed": false,
    "deletable": true,
    "editable": true
   },
   "outputs": [
    {
     "name": "stdout",
     "output_type": "stream",
     "text": [
      "Tests Passed\n"
     ]
    }
   ],
   "source": [
    "def process_decoding_input(target_data, target_vocab_to_int, batch_size):\n",
    "    \"\"\"\n",
    "    Preprocess target data for dencoding\n",
    "    :param target_data: Target Placehoder\n",
    "    :param target_vocab_to_int: Dictionary to go from the target words to an id\n",
    "    :param batch_size: Batch Size\n",
    "    :return: Preprocessed target data\n",
    "    \"\"\"\n",
    "    # TODO: Implement Function\n",
    "    #last_word_ix = target_data.shape.dims[1].value - 1\n",
    "    #target_data1 = tf.slice( target_data, [0, 0], [batch_size, last_word_ix] )\n",
    "    target_data1 = tf.strided_slice(target_data, [0, 0], [batch_size, -1], [1, 1])\n",
    "    \n",
    "    go_id = tf.constant( target_vocab_to_int['<GO>'], dtype=tf.int32, shape=[batch_size,1] )\n",
    "    target_data2 = tf.concat( [go_id, target_data1], 1 )\n",
    "    \n",
    "    return target_data2\n",
    "\n",
    "\"\"\"\n",
    "DON'T MODIFY ANYTHING IN THIS CELL THAT IS BELOW THIS LINE\n",
    "\"\"\"\n",
    "tests.test_process_decoding_input(process_decoding_input)"
   ]
  },
  {
   "cell_type": "markdown",
   "metadata": {
    "deletable": true,
    "editable": true
   },
   "source": [
    "### Encoding\n",
    "Implement `encoding_layer()` to create a Encoder RNN layer using [`tf.nn.dynamic_rnn()`](https://www.tensorflow.org/api_docs/python/tf/nn/dynamic_rnn)."
   ]
  },
  {
   "cell_type": "code",
   "execution_count": 9,
   "metadata": {
    "collapsed": false,
    "deletable": true,
    "editable": true
   },
   "outputs": [
    {
     "name": "stdout",
     "output_type": "stream",
     "text": [
      "Tests Passed\n"
     ]
    }
   ],
   "source": [
    "def encoding_layer(rnn_inputs, rnn_size, num_layers, keep_prob):\n",
    "    \"\"\"\n",
    "    Create encoding layer\n",
    "    :param rnn_inputs: Inputs for the RNN\n",
    "    :param rnn_size: RNN Size\n",
    "    :param num_layers: Number of layers\n",
    "    :param keep_prob: Dropout keep probability\n",
    "    :return: RNN state\n",
    "    \"\"\"\n",
    "    # TODO: Implement Function\n",
    "    lstm = tf.contrib.rnn.BasicLSTMCell( rnn_size )\n",
    "    dropout = tf.contrib.rnn.DropoutWrapper( lstm, keep_prob )\n",
    "    cell = tf.contrib.rnn.MultiRNNCell( [dropout] * num_layers )\n",
    "    output, state = tf.nn.dynamic_rnn( cell, rnn_inputs, dtype=tf.float32 )\n",
    "    return state\n",
    "\n",
    "\"\"\"\n",
    "DON'T MODIFY ANYTHING IN THIS CELL THAT IS BELOW THIS LINE\n",
    "\"\"\"\n",
    "tests.test_encoding_layer(encoding_layer)"
   ]
  },
  {
   "cell_type": "markdown",
   "metadata": {
    "deletable": true,
    "editable": true
   },
   "source": [
    "### Decoding - Training\n",
    "Create training logits using [`tf.contrib.seq2seq.simple_decoder_fn_train()`](https://www.tensorflow.org/api_docs/python/tf/contrib/seq2seq/simple_decoder_fn_train) and [`tf.contrib.seq2seq.dynamic_rnn_decoder()`](https://www.tensorflow.org/api_docs/python/tf/contrib/seq2seq/dynamic_rnn_decoder).  Apply the `output_fn` to the [`tf.contrib.seq2seq.dynamic_rnn_decoder()`](https://www.tensorflow.org/api_docs/python/tf/contrib/seq2seq/dynamic_rnn_decoder) outputs."
   ]
  },
  {
   "cell_type": "code",
   "execution_count": 10,
   "metadata": {
    "collapsed": false,
    "deletable": true,
    "editable": true
   },
   "outputs": [
    {
     "name": "stdout",
     "output_type": "stream",
     "text": [
      "Tests Passed\n"
     ]
    }
   ],
   "source": [
    "def decoding_layer_train(encoder_state, dec_cell, dec_embed_input, sequence_length, decoding_scope,\n",
    "                         output_fn, keep_prob):\n",
    "    \"\"\"\n",
    "    Create a decoding layer for training\n",
    "    :param encoder_state: Encoder State\n",
    "    :param dec_cell: Decoder RNN Cell\n",
    "    :param dec_embed_input: Decoder embedded input\n",
    "    :param sequence_length: Sequence Length\n",
    "    :param decoding_scope: TenorFlow Variable Scope for decoding\n",
    "    :param output_fn: Function to apply the output layer\n",
    "    :param keep_prob: Dropout keep probability\n",
    "    :return: Train Logits\n",
    "    \"\"\"\n",
    "    # TODO: Implement Function\n",
    "    decoder_fn_train = tf.contrib.seq2seq.simple_decoder_fn_train( encoder_state )\n",
    "    outputs_train, state_train, context_train = tf.contrib.seq2seq.dynamic_rnn_decoder(\n",
    "        dec_cell, decoder_fn_train, dec_embed_input, sequence_length, scope=decoding_scope )\n",
    "    training_logits = output_fn( outputs_train )\n",
    "    return training_logits\n",
    "\n",
    "\n",
    "\"\"\"\n",
    "DON'T MODIFY ANYTHING IN THIS CELL THAT IS BELOW THIS LINE\n",
    "\"\"\"\n",
    "tests.test_decoding_layer_train(decoding_layer_train)"
   ]
  },
  {
   "cell_type": "markdown",
   "metadata": {
    "deletable": true,
    "editable": true
   },
   "source": [
    "### Decoding - Inference\n",
    "Create inference logits using [`tf.contrib.seq2seq.simple_decoder_fn_inference()`](https://www.tensorflow.org/api_docs/python/tf/contrib/seq2seq/simple_decoder_fn_inference) and [`tf.contrib.seq2seq.dynamic_rnn_decoder()`](https://www.tensorflow.org/api_docs/python/tf/contrib/seq2seq/dynamic_rnn_decoder). "
   ]
  },
  {
   "cell_type": "code",
   "execution_count": 11,
   "metadata": {
    "collapsed": false,
    "deletable": true,
    "editable": true
   },
   "outputs": [
    {
     "name": "stdout",
     "output_type": "stream",
     "text": [
      "Tests Passed\n"
     ]
    }
   ],
   "source": [
    "def decoding_layer_infer(encoder_state, dec_cell, dec_embeddings, start_of_sequence_id, end_of_sequence_id,\n",
    "                         maximum_length, vocab_size, decoding_scope, output_fn, keep_prob):\n",
    "    \"\"\"\n",
    "    Create a decoding layer for inference\n",
    "    :param encoder_state: Encoder state\n",
    "    :param dec_cell: Decoder RNN Cell\n",
    "    :param dec_embeddings: Decoder embeddings\n",
    "    :param start_of_sequence_id: GO ID\n",
    "    :param end_of_sequence_id: EOS Id\n",
    "    :param maximum_length: The maximum allowed time steps to decode\n",
    "    :param vocab_size: Size of vocabulary\n",
    "    :param decoding_scope: TensorFlow Variable Scope for decoding\n",
    "    :param output_fn: Function to apply the output layer\n",
    "    :param keep_prob: Dropout keep probability\n",
    "    :return: Inference Logits\n",
    "    \"\"\"\n",
    "    # TODO: Implement Function\n",
    "    inference_fn = tf.contrib.seq2seq.simple_decoder_fn_inference(\n",
    "        output_fn, encoder_state, dec_embeddings, start_of_sequence_id, end_of_sequence_id, maximum_length, vocab_size )\n",
    "    dropout = tf.contrib.rnn.DropoutWrapper( dec_cell, keep_prob )\n",
    "    outputs_infer, state_infer, context_infer = tf.contrib.seq2seq.dynamic_rnn_decoder(\n",
    "        dropout, inference_fn, sequence_length = maximum_length, scope = decoding_scope )\n",
    "    inference_logits = outputs_infer #output_fn( outputs_infer )\n",
    "    return inference_logits\n",
    "\n",
    "\n",
    "\"\"\"\n",
    "DON'T MODIFY ANYTHING IN THIS CELL THAT IS BELOW THIS LINE\n",
    "\"\"\"\n",
    "tests.test_decoding_layer_infer(decoding_layer_infer)"
   ]
  },
  {
   "cell_type": "markdown",
   "metadata": {
    "deletable": true,
    "editable": true
   },
   "source": [
    "### Build the Decoding Layer\n",
    "Implement `decoding_layer()` to create a Decoder RNN layer.\n",
    "\n",
    "- Create RNN cell for decoding using `rnn_size` and `num_layers`.\n",
    "- Create the output fuction using [`lambda`](https://docs.python.org/3/tutorial/controlflow.html#lambda-expressions) to transform it's input, logits, to class logits.\n",
    "- Use the your `decoding_layer_train(encoder_state, dec_cell, dec_embed_input, sequence_length, decoding_scope, output_fn, keep_prob)` function to get the training logits.\n",
    "- Use your `decoding_layer_infer(encoder_state, dec_cell, dec_embeddings, start_of_sequence_id, end_of_sequence_id, maximum_length, vocab_size, decoding_scope, output_fn, keep_prob)` function to get the inference logits.\n",
    "\n",
    "Note: You'll need to use [tf.variable_scope](https://www.tensorflow.org/api_docs/python/tf/variable_scope) to share variables between training and inference."
   ]
  },
  {
   "cell_type": "code",
   "execution_count": 12,
   "metadata": {
    "collapsed": false,
    "deletable": true,
    "editable": true
   },
   "outputs": [
    {
     "name": "stdout",
     "output_type": "stream",
     "text": [
      "Tests Passed\n"
     ]
    }
   ],
   "source": [
    "def decoding_layer(dec_embed_input, dec_embeddings, encoder_state, vocab_size, sequence_length, rnn_size,\n",
    "                   num_layers, target_vocab_to_int, keep_prob):\n",
    "    \"\"\"\n",
    "    Create decoding layer\n",
    "    :param dec_embed_input: Decoder embedded input\n",
    "    :param dec_embeddings: Decoder embeddings\n",
    "    :param encoder_state: The encoded state\n",
    "    :param vocab_size: Size of vocabulary\n",
    "    :param sequence_length: Sequence Length\n",
    "    :param rnn_size: RNN Size\n",
    "    :param num_layers: Number of layers\n",
    "    :param target_vocab_to_int: Dictionary to go from the target words to an id\n",
    "    :param keep_prob: Dropout keep probability\n",
    "    :return: Tuple of (Training Logits, Inference Logits)\n",
    "    \"\"\"\n",
    "    # TODO: Implement Function\n",
    "    lstm = tf.contrib.rnn.BasicLSTMCell( rnn_size )\n",
    "    dropout = tf.contrib.rnn.DropoutWrapper( lstm, keep_prob )\n",
    "    dec_cell = tf.contrib.rnn.MultiRNNCell( [dropout] * num_layers )\n",
    "    output_fn = lambda logits: tf.contrib.layers.fully_connected(logits, vocab_size, \n",
    "            None, scope = decoding_scope)\n",
    "    start_of_sequence_id = target_vocab_to_int['<GO>']\n",
    "    end_of_sequence_id = target_vocab_to_int['<EOS>']\n",
    "    \n",
    "    with tf.variable_scope('decoding') as decoding_scope:\n",
    "        training_logits = decoding_layer_train(encoder_state, dec_cell, dec_embed_input, \n",
    "            sequence_length, decoding_scope, output_fn, keep_prob)\n",
    "    with tf.variable_scope('decoding', reuse=True) as decoding_scope:\n",
    "        inference_logits = decoding_layer_infer(encoder_state, dec_cell, dec_embeddings, \n",
    "            start_of_sequence_id, end_of_sequence_id, sequence_length, vocab_size, decoding_scope, output_fn, keep_prob)\n",
    "    \n",
    "    return training_logits, inference_logits\n",
    "\n",
    "\n",
    "\"\"\"\n",
    "DON'T MODIFY ANYTHING IN THIS CELL THAT IS BELOW THIS LINE\n",
    "\"\"\"\n",
    "tests.test_decoding_layer(decoding_layer)"
   ]
  },
  {
   "cell_type": "markdown",
   "metadata": {
    "deletable": true,
    "editable": true
   },
   "source": [
    "### Build the Neural Network\n",
    "Apply the functions you implemented above to:\n",
    "\n",
    "- Apply embedding to the input data for the encoder.\n",
    "- Encode the input using your `encoding_layer(rnn_inputs, rnn_size, num_layers, keep_prob)`.\n",
    "- Process target data using your `process_decoding_input(target_data, target_vocab_to_int, batch_size)` function.\n",
    "- Apply embedding to the target data for the decoder.\n",
    "- Decode the encoded input using your `decoding_layer(dec_embed_input, dec_embeddings, encoder_state, vocab_size, sequence_length, rnn_size, num_layers, target_vocab_to_int, keep_prob)`."
   ]
  },
  {
   "cell_type": "code",
   "execution_count": 13,
   "metadata": {
    "collapsed": false,
    "deletable": true,
    "editable": true
   },
   "outputs": [
    {
     "name": "stdout",
     "output_type": "stream",
     "text": [
      "Tests Passed\n"
     ]
    }
   ],
   "source": [
    "def seq2seq_model(input_data, target_data, keep_prob, batch_size, sequence_length, source_vocab_size, target_vocab_size,\n",
    "                  enc_embedding_size, dec_embedding_size, rnn_size, num_layers, target_vocab_to_int):\n",
    "    \"\"\"\n",
    "    Build the Sequence-to-Sequence part of the neural network\n",
    "    :param input_data: Input placeholder\n",
    "    :param target_data: Target placeholder\n",
    "    :param keep_prob: Dropout keep probability placeholder\n",
    "    :param batch_size: Batch Size\n",
    "    :param sequence_length: Sequence Length\n",
    "    :param source_vocab_size: Source vocabulary size\n",
    "    :param target_vocab_size: Target vocabulary size\n",
    "    :param enc_embedding_size: Decoder embedding size\n",
    "    :param dec_embedding_size: Encoder embedding size\n",
    "    :param rnn_size: RNN Size\n",
    "    :param num_layers: Number of layers\n",
    "    :param target_vocab_to_int: Dictionary to go from the target words to an id\n",
    "    :return: Tuple of (Training Logits, Inference Logits)\n",
    "    \"\"\"\n",
    "    # TODO: Implement Function\n",
    "    enc_embeddings = tf.Variable( tf.random_uniform((source_vocab_size, enc_embedding_size), -1, 1) )\n",
    "    enc_embed_input = tf.nn.embedding_lookup( enc_embeddings, input_data )\n",
    "    encoder_state = encoding_layer( enc_embed_input, rnn_size, num_layers, keep_prob )\n",
    "    \n",
    "    target_data_proc = process_decoding_input( target_data, target_vocab_to_int, batch_size )\n",
    "    dec_embeddings = tf.Variable( tf.random_uniform((target_vocab_size, dec_embedding_size), -1, 1) )\n",
    "    dec_embed_input = tf.nn.embedding_lookup( dec_embeddings, target_data_proc )\n",
    "    \n",
    "    training_logits, inference_logits = decoding_layer( dec_embed_input, dec_embeddings, encoder_state, \n",
    "            target_vocab_size, sequence_length, rnn_size, num_layers, target_vocab_to_int, keep_prob )\n",
    "    return training_logits, inference_logits\n",
    "\n",
    "\n",
    "\"\"\"\n",
    "DON'T MODIFY ANYTHING IN THIS CELL THAT IS BELOW THIS LINE\n",
    "\"\"\"\n",
    "tests.test_seq2seq_model(seq2seq_model)"
   ]
  },
  {
   "cell_type": "markdown",
   "metadata": {
    "deletable": true,
    "editable": true
   },
   "source": [
    "## Neural Network Training\n",
    "### Hyperparameters\n",
    "Tune the following parameters:\n",
    "\n",
    "- Set `epochs` to the number of epochs.\n",
    "- Set `batch_size` to the batch size.\n",
    "- Set `rnn_size` to the size of the RNNs.\n",
    "- Set `num_layers` to the number of layers.\n",
    "- Set `encoding_embedding_size` to the size of the embedding for the encoder.\n",
    "- Set `decoding_embedding_size` to the size of the embedding for the decoder.\n",
    "- Set `learning_rate` to the learning rate.\n",
    "- Set `keep_probability` to the Dropout keep probability"
   ]
  },
  {
   "cell_type": "code",
   "execution_count": 46,
   "metadata": {
    "collapsed": true,
    "deletable": true,
    "editable": true
   },
   "outputs": [],
   "source": [
    "# Number of Epochs\n",
    "epochs = 3\n",
    "# Batch Size\n",
    "batch_size = 1024\n",
    "# RNN Size\n",
    "rnn_size = 256\n",
    "# Number of Layers\n",
    "num_layers = 1\n",
    "# Embedding Size\n",
    "encoding_embedding_size = rnn_size\n",
    "decoding_embedding_size = rnn_size\n",
    "# Learning Rate\n",
    "learning_rate = 0.01\n",
    "# Dropout Keep Probability\n",
    "keep_probability = 0.5"
   ]
  },
  {
   "cell_type": "markdown",
   "metadata": {
    "deletable": true,
    "editable": true
   },
   "source": [
    "### Build the Graph\n",
    "Build the graph using the neural network you implemented."
   ]
  },
  {
   "cell_type": "code",
   "execution_count": 47,
   "metadata": {
    "collapsed": false,
    "deletable": true,
    "editable": true
   },
   "outputs": [],
   "source": [
    "\"\"\"\n",
    "DON'T MODIFY ANYTHING IN THIS CELL\n",
    "\"\"\"\n",
    "save_path = 'checkpoints/dev'\n",
    "(source_int_text, target_int_text), (source_vocab_to_int, target_vocab_to_int), _ = helper.load_preprocess()\n",
    "max_source_sentence_length = max([len(sentence) for sentence in source_int_text])\n",
    "\n",
    "train_graph = tf.Graph()\n",
    "with train_graph.as_default():\n",
    "    input_data, targets, lr, keep_prob = model_inputs()\n",
    "    sequence_length = tf.placeholder_with_default(max_source_sentence_length, None, name='sequence_length')\n",
    "    input_shape = tf.shape(input_data)\n",
    "    \n",
    "    train_logits, inference_logits = seq2seq_model(\n",
    "        tf.reverse(input_data, [-1]), targets, keep_prob, batch_size, sequence_length, len(source_vocab_to_int), len(target_vocab_to_int),\n",
    "        encoding_embedding_size, decoding_embedding_size, rnn_size, num_layers, target_vocab_to_int)\n",
    "\n",
    "    tf.identity(inference_logits, 'logits')\n",
    "    with tf.name_scope(\"optimization\"):\n",
    "        # Loss function\n",
    "        cost = tf.contrib.seq2seq.sequence_loss(\n",
    "            train_logits,\n",
    "            targets,\n",
    "            tf.ones([input_shape[0], sequence_length]))\n",
    "\n",
    "        # Optimizer\n",
    "        optimizer = tf.train.AdamOptimizer(lr)\n",
    "\n",
    "        # Gradient Clipping\n",
    "        gradients = optimizer.compute_gradients(cost)\n",
    "        capped_gradients = [(tf.clip_by_value(grad, -1., 1.), var) for grad, var in gradients if grad is not None]\n",
    "        train_op = optimizer.apply_gradients(capped_gradients)"
   ]
  },
  {
   "cell_type": "markdown",
   "metadata": {
    "deletable": true,
    "editable": true
   },
   "source": [
    "### Train\n",
    "Train the neural network on the preprocessed data. If you have a hard time getting a good loss, check the forms to see if anyone is having the same problem."
   ]
  },
  {
   "cell_type": "code",
   "execution_count": 48,
   "metadata": {
    "collapsed": false,
    "deletable": true,
    "editable": true,
    "scrolled": true
   },
   "outputs": [
    {
     "name": "stdout",
     "output_type": "stream",
     "text": [
      "Epoch   0 Batch    0/134 - Train Accuracy:  0.288, Validation Accuracy:  0.328, Loss:  5.877\n",
      "Epoch   0 Batch    1/134 - Train Accuracy:  0.281, Validation Accuracy:  0.349, Loss:  4.323\n",
      "Epoch   0 Batch    2/134 - Train Accuracy:  0.193, Validation Accuracy:  0.232, Loss:  3.449\n",
      "Epoch   0 Batch    3/134 - Train Accuracy:  0.190, Validation Accuracy:  0.226, Loss:  3.199\n",
      "Epoch   0 Batch    4/134 - Train Accuracy:  0.277, Validation Accuracy:  0.316, Loss:  2.635\n",
      "Epoch   0 Batch    5/134 - Train Accuracy:  0.289, Validation Accuracy:  0.324, Loss:  2.320\n",
      "Epoch   0 Batch    6/134 - Train Accuracy:  0.356, Validation Accuracy:  0.363, Loss:  1.973\n",
      "Epoch   0 Batch    7/134 - Train Accuracy:  0.330, Validation Accuracy:  0.374, Loss:  1.894\n",
      "Epoch   0 Batch    8/134 - Train Accuracy:  0.345, Validation Accuracy:  0.377, Loss:  1.667\n",
      "Epoch   0 Batch    9/134 - Train Accuracy:  0.411, Validation Accuracy:  0.418, Loss:  1.429\n",
      "Epoch   0 Batch   10/134 - Train Accuracy:  0.421, Validation Accuracy:  0.443, Loss:  1.401\n",
      "Epoch   0 Batch   11/134 - Train Accuracy:  0.467, Validation Accuracy:  0.481, Loss:  1.288\n",
      "Epoch   0 Batch   12/134 - Train Accuracy:  0.490, Validation Accuracy:  0.474, Loss:  1.128\n",
      "Epoch   0 Batch   13/134 - Train Accuracy:  0.446, Validation Accuracy:  0.473, Loss:  1.118\n",
      "Epoch   0 Batch   14/134 - Train Accuracy:  0.468, Validation Accuracy:  0.487, Loss:  1.037\n",
      "Epoch   0 Batch   15/134 - Train Accuracy:  0.476, Validation Accuracy:  0.496, Loss:  1.001\n",
      "Epoch   0 Batch   16/134 - Train Accuracy:  0.489, Validation Accuracy:  0.505, Loss:  0.940\n",
      "Epoch   0 Batch   17/134 - Train Accuracy:  0.500, Validation Accuracy:  0.515, Loss:  0.933\n",
      "Epoch   0 Batch   18/134 - Train Accuracy:  0.503, Validation Accuracy:  0.528, Loss:  0.905\n",
      "Epoch   0 Batch   19/134 - Train Accuracy:  0.510, Validation Accuracy:  0.528, Loss:  0.859\n",
      "Epoch   0 Batch   20/134 - Train Accuracy:  0.527, Validation Accuracy:  0.528, Loss:  0.816\n",
      "Epoch   0 Batch   21/134 - Train Accuracy:  0.510, Validation Accuracy:  0.521, Loss:  0.830\n",
      "Epoch   0 Batch   22/134 - Train Accuracy:  0.505, Validation Accuracy:  0.543, Loss:  0.832\n",
      "Epoch   0 Batch   23/134 - Train Accuracy:  0.558, Validation Accuracy:  0.549, Loss:  0.736\n",
      "Epoch   0 Batch   24/134 - Train Accuracy:  0.515, Validation Accuracy:  0.555, Loss:  0.802\n",
      "Epoch   0 Batch   25/134 - Train Accuracy:  0.526, Validation Accuracy:  0.547, Loss:  0.747\n",
      "Epoch   0 Batch   26/134 - Train Accuracy:  0.522, Validation Accuracy:  0.552, Loss:  0.777\n",
      "Epoch   0 Batch   27/134 - Train Accuracy:  0.544, Validation Accuracy:  0.559, Loss:  0.732\n",
      "Epoch   0 Batch   28/134 - Train Accuracy:  0.563, Validation Accuracy:  0.572, Loss:  0.725\n",
      "Epoch   0 Batch   29/134 - Train Accuracy:  0.587, Validation Accuracy:  0.581, Loss:  0.663\n",
      "Epoch   0 Batch   30/134 - Train Accuracy:  0.602, Validation Accuracy:  0.590, Loss:  0.665\n",
      "Epoch   0 Batch   31/134 - Train Accuracy:  0.557, Validation Accuracy:  0.585, Loss:  0.685\n",
      "Epoch   0 Batch   32/134 - Train Accuracy:  0.561, Validation Accuracy:  0.576, Loss:  0.644\n",
      "Epoch   0 Batch   33/134 - Train Accuracy:  0.547, Validation Accuracy:  0.563, Loss:  0.673\n",
      "Epoch   0 Batch   34/134 - Train Accuracy:  0.554, Validation Accuracy:  0.580, Loss:  0.675\n",
      "Epoch   0 Batch   35/134 - Train Accuracy:  0.587, Validation Accuracy:  0.589, Loss:  0.630\n",
      "Epoch   0 Batch   36/134 - Train Accuracy:  0.609, Validation Accuracy:  0.598, Loss:  0.635\n",
      "Epoch   0 Batch   37/134 - Train Accuracy:  0.578, Validation Accuracy:  0.603, Loss:  0.633\n",
      "Epoch   0 Batch   38/134 - Train Accuracy:  0.588, Validation Accuracy:  0.604, Loss:  0.611\n",
      "Epoch   0 Batch   39/134 - Train Accuracy:  0.595, Validation Accuracy:  0.614, Loss:  0.609\n",
      "Epoch   0 Batch   40/134 - Train Accuracy:  0.612, Validation Accuracy:  0.620, Loss:  0.599\n",
      "Epoch   0 Batch   41/134 - Train Accuracy:  0.613, Validation Accuracy:  0.626, Loss:  0.600\n",
      "Epoch   0 Batch   42/134 - Train Accuracy:  0.610, Validation Accuracy:  0.627, Loss:  0.587\n",
      "Epoch   0 Batch   43/134 - Train Accuracy:  0.620, Validation Accuracy:  0.627, Loss:  0.582\n",
      "Epoch   0 Batch   44/134 - Train Accuracy:  0.609, Validation Accuracy:  0.622, Loss:  0.581\n",
      "Epoch   0 Batch   45/134 - Train Accuracy:  0.617, Validation Accuracy:  0.622, Loss:  0.556\n",
      "Epoch   0 Batch   46/134 - Train Accuracy:  0.633, Validation Accuracy:  0.631, Loss:  0.544\n",
      "Epoch   0 Batch   47/134 - Train Accuracy:  0.631, Validation Accuracy:  0.640, Loss:  0.558\n",
      "Epoch   0 Batch   48/134 - Train Accuracy:  0.633, Validation Accuracy:  0.645, Loss:  0.551\n",
      "Epoch   0 Batch   49/134 - Train Accuracy:  0.646, Validation Accuracy:  0.647, Loss:  0.531\n",
      "Epoch   0 Batch   50/134 - Train Accuracy:  0.626, Validation Accuracy:  0.645, Loss:  0.548\n",
      "Epoch   0 Batch   51/134 - Train Accuracy:  0.630, Validation Accuracy:  0.639, Loss:  0.531\n",
      "Epoch   0 Batch   52/134 - Train Accuracy:  0.627, Validation Accuracy:  0.637, Loss:  0.532\n",
      "Epoch   0 Batch   53/134 - Train Accuracy:  0.637, Validation Accuracy:  0.644, Loss:  0.526\n",
      "Epoch   0 Batch   54/134 - Train Accuracy:  0.637, Validation Accuracy:  0.660, Loss:  0.513\n",
      "Epoch   0 Batch   55/134 - Train Accuracy:  0.650, Validation Accuracy:  0.672, Loss:  0.515\n",
      "Epoch   0 Batch   56/134 - Train Accuracy:  0.656, Validation Accuracy:  0.673, Loss:  0.489\n",
      "Epoch   0 Batch   57/134 - Train Accuracy:  0.656, Validation Accuracy:  0.676, Loss:  0.507\n",
      "Epoch   0 Batch   58/134 - Train Accuracy:  0.673, Validation Accuracy:  0.678, Loss:  0.496\n",
      "Epoch   0 Batch   59/134 - Train Accuracy:  0.656, Validation Accuracy:  0.676, Loss:  0.512\n",
      "Epoch   0 Batch   60/134 - Train Accuracy:  0.664, Validation Accuracy:  0.678, Loss:  0.485\n",
      "Epoch   0 Batch   61/134 - Train Accuracy:  0.668, Validation Accuracy:  0.680, Loss:  0.480\n",
      "Epoch   0 Batch   62/134 - Train Accuracy:  0.667, Validation Accuracy:  0.676, Loss:  0.481\n",
      "Epoch   0 Batch   63/134 - Train Accuracy:  0.674, Validation Accuracy:  0.679, Loss:  0.473\n",
      "Epoch   0 Batch   64/134 - Train Accuracy:  0.664, Validation Accuracy:  0.687, Loss:  0.466\n",
      "Epoch   0 Batch   65/134 - Train Accuracy:  0.676, Validation Accuracy:  0.687, Loss:  0.465\n",
      "Epoch   0 Batch   66/134 - Train Accuracy:  0.677, Validation Accuracy:  0.694, Loss:  0.455\n",
      "Epoch   0 Batch   67/134 - Train Accuracy:  0.665, Validation Accuracy:  0.697, Loss:  0.490\n",
      "Epoch   0 Batch   68/134 - Train Accuracy:  0.678, Validation Accuracy:  0.697, Loss:  0.477\n",
      "Epoch   0 Batch   69/134 - Train Accuracy:  0.700, Validation Accuracy:  0.702, Loss:  0.443\n",
      "Epoch   0 Batch   70/134 - Train Accuracy:  0.699, Validation Accuracy:  0.711, Loss:  0.434\n",
      "Epoch   0 Batch   71/134 - Train Accuracy:  0.707, Validation Accuracy:  0.714, Loss:  0.424\n",
      "Epoch   0 Batch   72/134 - Train Accuracy:  0.698, Validation Accuracy:  0.705, Loss:  0.423\n",
      "Epoch   0 Batch   73/134 - Train Accuracy:  0.711, Validation Accuracy:  0.704, Loss:  0.406\n",
      "Epoch   0 Batch   74/134 - Train Accuracy:  0.697, Validation Accuracy:  0.706, Loss:  0.425\n",
      "Epoch   0 Batch   75/134 - Train Accuracy:  0.722, Validation Accuracy:  0.705, Loss:  0.400\n",
      "Epoch   0 Batch   76/134 - Train Accuracy:  0.712, Validation Accuracy:  0.713, Loss:  0.403\n",
      "Epoch   0 Batch   77/134 - Train Accuracy:  0.732, Validation Accuracy:  0.719, Loss:  0.386\n",
      "Epoch   0 Batch   78/134 - Train Accuracy:  0.722, Validation Accuracy:  0.728, Loss:  0.400\n",
      "Epoch   0 Batch   79/134 - Train Accuracy:  0.719, Validation Accuracy:  0.734, Loss:  0.394\n",
      "Epoch   0 Batch   80/134 - Train Accuracy:  0.727, Validation Accuracy:  0.734, Loss:  0.390\n",
      "Epoch   0 Batch   81/134 - Train Accuracy:  0.731, Validation Accuracy:  0.738, Loss:  0.384\n",
      "Epoch   0 Batch   82/134 - Train Accuracy:  0.747, Validation Accuracy:  0.746, Loss:  0.357\n",
      "Epoch   0 Batch   83/134 - Train Accuracy:  0.737, Validation Accuracy:  0.745, Loss:  0.374\n",
      "Epoch   0 Batch   84/134 - Train Accuracy:  0.729, Validation Accuracy:  0.748, Loss:  0.366\n",
      "Epoch   0 Batch   85/134 - Train Accuracy:  0.737, Validation Accuracy:  0.749, Loss:  0.372\n",
      "Epoch   0 Batch   86/134 - Train Accuracy:  0.743, Validation Accuracy:  0.755, Loss:  0.353\n",
      "Epoch   0 Batch   87/134 - Train Accuracy:  0.736, Validation Accuracy:  0.758, Loss:  0.361\n",
      "Epoch   0 Batch   88/134 - Train Accuracy:  0.767, Validation Accuracy:  0.759, Loss:  0.325\n",
      "Epoch   0 Batch   89/134 - Train Accuracy:  0.751, Validation Accuracy:  0.764, Loss:  0.345\n",
      "Epoch   0 Batch   90/134 - Train Accuracy:  0.749, Validation Accuracy:  0.767, Loss:  0.340\n",
      "Epoch   0 Batch   91/134 - Train Accuracy:  0.801, Validation Accuracy:  0.772, Loss:  0.294\n",
      "Epoch   0 Batch   92/134 - Train Accuracy:  0.772, Validation Accuracy:  0.773, Loss:  0.317\n",
      "Epoch   0 Batch   93/134 - Train Accuracy:  0.784, Validation Accuracy:  0.776, Loss:  0.318\n",
      "Epoch   0 Batch   94/134 - Train Accuracy:  0.777, Validation Accuracy:  0.783, Loss:  0.307\n",
      "Epoch   0 Batch   95/134 - Train Accuracy:  0.771, Validation Accuracy:  0.784, Loss:  0.311\n",
      "Epoch   0 Batch   96/134 - Train Accuracy:  0.784, Validation Accuracy:  0.788, Loss:  0.311\n",
      "Epoch   0 Batch   97/134 - Train Accuracy:  0.773, Validation Accuracy:  0.793, Loss:  0.302\n",
      "Epoch   0 Batch   98/134 - Train Accuracy:  0.765, Validation Accuracy:  0.793, Loss:  0.314\n",
      "Epoch   0 Batch   99/134 - Train Accuracy:  0.787, Validation Accuracy:  0.790, Loss:  0.296\n",
      "Epoch   0 Batch  100/134 - Train Accuracy:  0.785, Validation Accuracy:  0.792, Loss:  0.286\n",
      "Epoch   0 Batch  101/134 - Train Accuracy:  0.782, Validation Accuracy:  0.795, Loss:  0.305\n",
      "Epoch   0 Batch  102/134 - Train Accuracy:  0.789, Validation Accuracy:  0.795, Loss:  0.280\n",
      "Epoch   0 Batch  103/134 - Train Accuracy:  0.806, Validation Accuracy:  0.796, Loss:  0.267\n",
      "Epoch   0 Batch  104/134 - Train Accuracy:  0.802, Validation Accuracy:  0.797, Loss:  0.266\n",
      "Epoch   0 Batch  105/134 - Train Accuracy:  0.791, Validation Accuracy:  0.801, Loss:  0.272\n",
      "Epoch   0 Batch  106/134 - Train Accuracy:  0.808, Validation Accuracy:  0.807, Loss:  0.265\n",
      "Epoch   0 Batch  107/134 - Train Accuracy:  0.812, Validation Accuracy:  0.809, Loss:  0.249\n",
      "Epoch   0 Batch  108/134 - Train Accuracy:  0.802, Validation Accuracy:  0.813, Loss:  0.265\n",
      "Epoch   0 Batch  109/134 - Train Accuracy:  0.814, Validation Accuracy:  0.815, Loss:  0.245\n",
      "Epoch   0 Batch  110/134 - Train Accuracy:  0.822, Validation Accuracy:  0.816, Loss:  0.244\n",
      "Epoch   0 Batch  111/134 - Train Accuracy:  0.811, Validation Accuracy:  0.819, Loss:  0.246\n",
      "Epoch   0 Batch  112/134 - Train Accuracy:  0.818, Validation Accuracy:  0.817, Loss:  0.240\n",
      "Epoch   0 Batch  113/134 - Train Accuracy:  0.835, Validation Accuracy:  0.818, Loss:  0.211\n",
      "Epoch   0 Batch  114/134 - Train Accuracy:  0.823, Validation Accuracy:  0.823, Loss:  0.233\n",
      "Epoch   0 Batch  115/134 - Train Accuracy:  0.821, Validation Accuracy:  0.828, Loss:  0.241\n",
      "Epoch   0 Batch  116/134 - Train Accuracy:  0.838, Validation Accuracy:  0.829, Loss:  0.229\n",
      "Epoch   0 Batch  117/134 - Train Accuracy:  0.835, Validation Accuracy:  0.833, Loss:  0.215\n",
      "Epoch   0 Batch  118/134 - Train Accuracy:  0.844, Validation Accuracy:  0.833, Loss:  0.211\n",
      "Epoch   0 Batch  119/134 - Train Accuracy:  0.848, Validation Accuracy:  0.829, Loss:  0.195\n",
      "Epoch   0 Batch  120/134 - Train Accuracy:  0.824, Validation Accuracy:  0.834, Loss:  0.220\n",
      "Epoch   0 Batch  121/134 - Train Accuracy:  0.834, Validation Accuracy:  0.833, Loss:  0.208\n",
      "Epoch   0 Batch  122/134 - Train Accuracy:  0.827, Validation Accuracy:  0.840, Loss:  0.209\n",
      "Epoch   0 Batch  123/134 - Train Accuracy:  0.841, Validation Accuracy:  0.839, Loss:  0.200\n",
      "Epoch   0 Batch  124/134 - Train Accuracy:  0.853, Validation Accuracy:  0.839, Loss:  0.188\n",
      "Epoch   0 Batch  125/134 - Train Accuracy:  0.855, Validation Accuracy:  0.845, Loss:  0.193\n",
      "Epoch   0 Batch  126/134 - Train Accuracy:  0.825, Validation Accuracy:  0.845, Loss:  0.198\n",
      "Epoch   0 Batch  127/134 - Train Accuracy:  0.843, Validation Accuracy:  0.847, Loss:  0.187\n",
      "Epoch   0 Batch  128/134 - Train Accuracy:  0.834, Validation Accuracy:  0.849, Loss:  0.195\n",
      "Epoch   0 Batch  129/134 - Train Accuracy:  0.838, Validation Accuracy:  0.850, Loss:  0.190\n",
      "Epoch   0 Batch  130/134 - Train Accuracy:  0.843, Validation Accuracy:  0.854, Loss:  0.183\n",
      "Epoch   0 Batch  131/134 - Train Accuracy:  0.836, Validation Accuracy:  0.854, Loss:  0.192\n",
      "Epoch   0 Batch  132/134 - Train Accuracy:  0.856, Validation Accuracy:  0.851, Loss:  0.175\n",
      "Epoch   1 Batch    0/134 - Train Accuracy:  0.851, Validation Accuracy:  0.854, Loss:  0.176\n",
      "Epoch   1 Batch    1/134 - Train Accuracy:  0.845, Validation Accuracy:  0.856, Loss:  0.183\n",
      "Epoch   1 Batch    2/134 - Train Accuracy:  0.850, Validation Accuracy:  0.853, Loss:  0.169\n",
      "Epoch   1 Batch    3/134 - Train Accuracy:  0.855, Validation Accuracy:  0.851, Loss:  0.171\n",
      "Epoch   1 Batch    4/134 - Train Accuracy:  0.866, Validation Accuracy:  0.854, Loss:  0.163\n",
      "Epoch   1 Batch    5/134 - Train Accuracy:  0.854, Validation Accuracy:  0.853, Loss:  0.170\n",
      "Epoch   1 Batch    6/134 - Train Accuracy:  0.859, Validation Accuracy:  0.857, Loss:  0.153\n",
      "Epoch   1 Batch    7/134 - Train Accuracy:  0.856, Validation Accuracy:  0.858, Loss:  0.157\n",
      "Epoch   1 Batch    8/134 - Train Accuracy:  0.864, Validation Accuracy:  0.861, Loss:  0.152\n",
      "Epoch   1 Batch    9/134 - Train Accuracy:  0.874, Validation Accuracy:  0.863, Loss:  0.143\n",
      "Epoch   1 Batch   10/134 - Train Accuracy:  0.867, Validation Accuracy:  0.865, Loss:  0.150\n",
      "Epoch   1 Batch   11/134 - Train Accuracy:  0.865, Validation Accuracy:  0.865, Loss:  0.148\n",
      "Epoch   1 Batch   12/134 - Train Accuracy:  0.870, Validation Accuracy:  0.871, Loss:  0.140\n",
      "Epoch   1 Batch   13/134 - Train Accuracy:  0.855, Validation Accuracy:  0.873, Loss:  0.147\n",
      "Epoch   1 Batch   14/134 - Train Accuracy:  0.873, Validation Accuracy:  0.869, Loss:  0.146\n",
      "Epoch   1 Batch   15/134 - Train Accuracy:  0.872, Validation Accuracy:  0.866, Loss:  0.134\n",
      "Epoch   1 Batch   16/134 - Train Accuracy:  0.872, Validation Accuracy:  0.866, Loss:  0.134\n",
      "Epoch   1 Batch   17/134 - Train Accuracy:  0.860, Validation Accuracy:  0.873, Loss:  0.143\n",
      "Epoch   1 Batch   18/134 - Train Accuracy:  0.870, Validation Accuracy:  0.878, Loss:  0.135\n",
      "Epoch   1 Batch   19/134 - Train Accuracy:  0.860, Validation Accuracy:  0.882, Loss:  0.137\n",
      "Epoch   1 Batch   20/134 - Train Accuracy:  0.879, Validation Accuracy:  0.879, Loss:  0.132\n",
      "Epoch   1 Batch   21/134 - Train Accuracy:  0.876, Validation Accuracy:  0.880, Loss:  0.132\n",
      "Epoch   1 Batch   22/134 - Train Accuracy:  0.876, Validation Accuracy:  0.878, Loss:  0.132\n",
      "Epoch   1 Batch   23/134 - Train Accuracy:  0.890, Validation Accuracy:  0.878, Loss:  0.120\n",
      "Epoch   1 Batch   24/134 - Train Accuracy:  0.873, Validation Accuracy:  0.881, Loss:  0.134\n",
      "Epoch   1 Batch   25/134 - Train Accuracy:  0.879, Validation Accuracy:  0.886, Loss:  0.121\n",
      "Epoch   1 Batch   26/134 - Train Accuracy:  0.874, Validation Accuracy:  0.887, Loss:  0.130\n",
      "Epoch   1 Batch   27/134 - Train Accuracy:  0.890, Validation Accuracy:  0.887, Loss:  0.120\n",
      "Epoch   1 Batch   28/134 - Train Accuracy:  0.886, Validation Accuracy:  0.890, Loss:  0.120\n",
      "Epoch   1 Batch   29/134 - Train Accuracy:  0.895, Validation Accuracy:  0.895, Loss:  0.112\n",
      "Epoch   1 Batch   30/134 - Train Accuracy:  0.890, Validation Accuracy:  0.896, Loss:  0.117\n",
      "Epoch   1 Batch   31/134 - Train Accuracy:  0.887, Validation Accuracy:  0.897, Loss:  0.119\n",
      "Epoch   1 Batch   32/134 - Train Accuracy:  0.888, Validation Accuracy:  0.897, Loss:  0.111\n",
      "Epoch   1 Batch   33/134 - Train Accuracy:  0.883, Validation Accuracy:  0.891, Loss:  0.121\n",
      "Epoch   1 Batch   34/134 - Train Accuracy:  0.881, Validation Accuracy:  0.890, Loss:  0.119\n",
      "Epoch   1 Batch   35/134 - Train Accuracy:  0.891, Validation Accuracy:  0.891, Loss:  0.115\n",
      "Epoch   1 Batch   36/134 - Train Accuracy:  0.890, Validation Accuracy:  0.891, Loss:  0.111\n",
      "Epoch   1 Batch   37/134 - Train Accuracy:  0.888, Validation Accuracy:  0.898, Loss:  0.112\n",
      "Epoch   1 Batch   38/134 - Train Accuracy:  0.892, Validation Accuracy:  0.898, Loss:  0.111\n",
      "Epoch   1 Batch   39/134 - Train Accuracy:  0.886, Validation Accuracy:  0.899, Loss:  0.106\n",
      "Epoch   1 Batch   40/134 - Train Accuracy:  0.895, Validation Accuracy:  0.902, Loss:  0.105\n",
      "Epoch   1 Batch   41/134 - Train Accuracy:  0.885, Validation Accuracy:  0.900, Loss:  0.109\n",
      "Epoch   1 Batch   42/134 - Train Accuracy:  0.888, Validation Accuracy:  0.903, Loss:  0.104\n",
      "Epoch   1 Batch   43/134 - Train Accuracy:  0.894, Validation Accuracy:  0.903, Loss:  0.107\n",
      "Epoch   1 Batch   44/134 - Train Accuracy:  0.905, Validation Accuracy:  0.903, Loss:  0.103\n",
      "Epoch   1 Batch   45/134 - Train Accuracy:  0.904, Validation Accuracy:  0.902, Loss:  0.099\n",
      "Epoch   1 Batch   46/134 - Train Accuracy:  0.904, Validation Accuracy:  0.906, Loss:  0.102\n",
      "Epoch   1 Batch   47/134 - Train Accuracy:  0.894, Validation Accuracy:  0.907, Loss:  0.097\n",
      "Epoch   1 Batch   48/134 - Train Accuracy:  0.896, Validation Accuracy:  0.903, Loss:  0.099\n",
      "Epoch   1 Batch   49/134 - Train Accuracy:  0.900, Validation Accuracy:  0.906, Loss:  0.094\n",
      "Epoch   1 Batch   50/134 - Train Accuracy:  0.888, Validation Accuracy:  0.909, Loss:  0.098\n",
      "Epoch   1 Batch   51/134 - Train Accuracy:  0.900, Validation Accuracy:  0.908, Loss:  0.097\n",
      "Epoch   1 Batch   52/134 - Train Accuracy:  0.899, Validation Accuracy:  0.911, Loss:  0.094\n",
      "Epoch   1 Batch   53/134 - Train Accuracy:  0.917, Validation Accuracy:  0.912, Loss:  0.093\n",
      "Epoch   1 Batch   54/134 - Train Accuracy:  0.884, Validation Accuracy:  0.909, Loss:  0.092\n",
      "Epoch   1 Batch   55/134 - Train Accuracy:  0.904, Validation Accuracy:  0.908, Loss:  0.094\n",
      "Epoch   1 Batch   56/134 - Train Accuracy:  0.909, Validation Accuracy:  0.906, Loss:  0.087\n",
      "Epoch   1 Batch   57/134 - Train Accuracy:  0.912, Validation Accuracy:  0.909, Loss:  0.090\n",
      "Epoch   1 Batch   58/134 - Train Accuracy:  0.912, Validation Accuracy:  0.915, Loss:  0.084\n",
      "Epoch   1 Batch   59/134 - Train Accuracy:  0.896, Validation Accuracy:  0.917, Loss:  0.089\n",
      "Epoch   1 Batch   60/134 - Train Accuracy:  0.903, Validation Accuracy:  0.916, Loss:  0.084\n",
      "Epoch   1 Batch   61/134 - Train Accuracy:  0.912, Validation Accuracy:  0.912, Loss:  0.081\n",
      "Epoch   1 Batch   62/134 - Train Accuracy:  0.892, Validation Accuracy:  0.913, Loss:  0.085\n",
      "Epoch   1 Batch   63/134 - Train Accuracy:  0.904, Validation Accuracy:  0.913, Loss:  0.083\n",
      "Epoch   1 Batch   64/134 - Train Accuracy:  0.904, Validation Accuracy:  0.914, Loss:  0.085\n",
      "Epoch   1 Batch   65/134 - Train Accuracy:  0.894, Validation Accuracy:  0.911, Loss:  0.086\n",
      "Epoch   1 Batch   66/134 - Train Accuracy:  0.910, Validation Accuracy:  0.914, Loss:  0.082\n",
      "Epoch   1 Batch   67/134 - Train Accuracy:  0.892, Validation Accuracy:  0.916, Loss:  0.088\n",
      "Epoch   1 Batch   68/134 - Train Accuracy:  0.902, Validation Accuracy:  0.916, Loss:  0.085\n",
      "Epoch   1 Batch   69/134 - Train Accuracy:  0.905, Validation Accuracy:  0.918, Loss:  0.081\n",
      "Epoch   1 Batch   70/134 - Train Accuracy:  0.905, Validation Accuracy:  0.918, Loss:  0.081\n",
      "Epoch   1 Batch   71/134 - Train Accuracy:  0.923, Validation Accuracy:  0.920, Loss:  0.072\n",
      "Epoch   1 Batch   72/134 - Train Accuracy:  0.906, Validation Accuracy:  0.915, Loss:  0.076\n",
      "Epoch   1 Batch   73/134 - Train Accuracy:  0.909, Validation Accuracy:  0.917, Loss:  0.077\n",
      "Epoch   1 Batch   74/134 - Train Accuracy:  0.911, Validation Accuracy:  0.919, Loss:  0.081\n",
      "Epoch   1 Batch   75/134 - Train Accuracy:  0.911, Validation Accuracy:  0.917, Loss:  0.071\n",
      "Epoch   1 Batch   76/134 - Train Accuracy:  0.930, Validation Accuracy:  0.920, Loss:  0.071\n",
      "Epoch   1 Batch   77/134 - Train Accuracy:  0.920, Validation Accuracy:  0.921, Loss:  0.070\n",
      "Epoch   1 Batch   78/134 - Train Accuracy:  0.912, Validation Accuracy:  0.920, Loss:  0.073\n",
      "Epoch   1 Batch   79/134 - Train Accuracy:  0.915, Validation Accuracy:  0.920, Loss:  0.074\n",
      "Epoch   1 Batch   80/134 - Train Accuracy:  0.922, Validation Accuracy:  0.923, Loss:  0.074\n",
      "Epoch   1 Batch   81/134 - Train Accuracy:  0.926, Validation Accuracy:  0.926, Loss:  0.071\n",
      "Epoch   1 Batch   82/134 - Train Accuracy:  0.920, Validation Accuracy:  0.926, Loss:  0.067\n",
      "Epoch   1 Batch   83/134 - Train Accuracy:  0.910, Validation Accuracy:  0.929, Loss:  0.071\n",
      "Epoch   1 Batch   84/134 - Train Accuracy:  0.918, Validation Accuracy:  0.929, Loss:  0.068\n",
      "Epoch   1 Batch   85/134 - Train Accuracy:  0.916, Validation Accuracy:  0.933, Loss:  0.073\n",
      "Epoch   1 Batch   86/134 - Train Accuracy:  0.926, Validation Accuracy:  0.934, Loss:  0.067\n",
      "Epoch   1 Batch   87/134 - Train Accuracy:  0.906, Validation Accuracy:  0.930, Loss:  0.076\n",
      "Epoch   1 Batch   88/134 - Train Accuracy:  0.925, Validation Accuracy:  0.929, Loss:  0.063\n",
      "Epoch   1 Batch   89/134 - Train Accuracy:  0.919, Validation Accuracy:  0.930, Loss:  0.067\n",
      "Epoch   1 Batch   90/134 - Train Accuracy:  0.920, Validation Accuracy:  0.930, Loss:  0.067\n",
      "Epoch   1 Batch   91/134 - Train Accuracy:  0.931, Validation Accuracy:  0.932, Loss:  0.055\n",
      "Epoch   1 Batch   92/134 - Train Accuracy:  0.927, Validation Accuracy:  0.937, Loss:  0.061\n",
      "Epoch   1 Batch   93/134 - Train Accuracy:  0.923, Validation Accuracy:  0.932, Loss:  0.061\n",
      "Epoch   1 Batch   94/134 - Train Accuracy:  0.927, Validation Accuracy:  0.930, Loss:  0.063\n",
      "Epoch   1 Batch   95/134 - Train Accuracy:  0.917, Validation Accuracy:  0.934, Loss:  0.065\n",
      "Epoch   1 Batch   96/134 - Train Accuracy:  0.926, Validation Accuracy:  0.936, Loss:  0.063\n",
      "Epoch   1 Batch   97/134 - Train Accuracy:  0.925, Validation Accuracy:  0.937, Loss:  0.063\n",
      "Epoch   1 Batch   98/134 - Train Accuracy:  0.922, Validation Accuracy:  0.936, Loss:  0.068\n",
      "Epoch   1 Batch   99/134 - Train Accuracy:  0.930, Validation Accuracy:  0.931, Loss:  0.065\n",
      "Epoch   1 Batch  100/134 - Train Accuracy:  0.922, Validation Accuracy:  0.930, Loss:  0.064\n",
      "Epoch   1 Batch  101/134 - Train Accuracy:  0.925, Validation Accuracy:  0.933, Loss:  0.062\n",
      "Epoch   1 Batch  102/134 - Train Accuracy:  0.923, Validation Accuracy:  0.931, Loss:  0.060\n",
      "Epoch   1 Batch  103/134 - Train Accuracy:  0.928, Validation Accuracy:  0.930, Loss:  0.062\n",
      "Epoch   1 Batch  104/134 - Train Accuracy:  0.928, Validation Accuracy:  0.936, Loss:  0.056\n",
      "Epoch   1 Batch  105/134 - Train Accuracy:  0.918, Validation Accuracy:  0.935, Loss:  0.063\n",
      "Epoch   1 Batch  106/134 - Train Accuracy:  0.922, Validation Accuracy:  0.934, Loss:  0.058\n",
      "Epoch   1 Batch  107/134 - Train Accuracy:  0.922, Validation Accuracy:  0.939, Loss:  0.060\n",
      "Epoch   1 Batch  108/134 - Train Accuracy:  0.926, Validation Accuracy:  0.941, Loss:  0.060\n",
      "Epoch   1 Batch  109/134 - Train Accuracy:  0.927, Validation Accuracy:  0.942, Loss:  0.056\n",
      "Epoch   1 Batch  110/134 - Train Accuracy:  0.936, Validation Accuracy:  0.942, Loss:  0.057\n",
      "Epoch   1 Batch  111/134 - Train Accuracy:  0.932, Validation Accuracy:  0.942, Loss:  0.060\n",
      "Epoch   1 Batch  112/134 - Train Accuracy:  0.929, Validation Accuracy:  0.942, Loss:  0.058\n",
      "Epoch   1 Batch  113/134 - Train Accuracy:  0.939, Validation Accuracy:  0.941, Loss:  0.052\n",
      "Epoch   1 Batch  114/134 - Train Accuracy:  0.933, Validation Accuracy:  0.941, Loss:  0.057\n",
      "Epoch   1 Batch  115/134 - Train Accuracy:  0.926, Validation Accuracy:  0.941, Loss:  0.056\n",
      "Epoch   1 Batch  116/134 - Train Accuracy:  0.940, Validation Accuracy:  0.939, Loss:  0.058\n",
      "Epoch   1 Batch  117/134 - Train Accuracy:  0.940, Validation Accuracy:  0.939, Loss:  0.050\n",
      "Epoch   1 Batch  118/134 - Train Accuracy:  0.933, Validation Accuracy:  0.940, Loss:  0.057\n",
      "Epoch   1 Batch  119/134 - Train Accuracy:  0.936, Validation Accuracy:  0.938, Loss:  0.050\n",
      "Epoch   1 Batch  120/134 - Train Accuracy:  0.933, Validation Accuracy:  0.936, Loss:  0.056\n",
      "Epoch   1 Batch  121/134 - Train Accuracy:  0.934, Validation Accuracy:  0.942, Loss:  0.053\n",
      "Epoch   1 Batch  122/134 - Train Accuracy:  0.923, Validation Accuracy:  0.941, Loss:  0.054\n",
      "Epoch   1 Batch  123/134 - Train Accuracy:  0.933, Validation Accuracy:  0.941, Loss:  0.051\n",
      "Epoch   1 Batch  124/134 - Train Accuracy:  0.945, Validation Accuracy:  0.940, Loss:  0.047\n",
      "Epoch   1 Batch  125/134 - Train Accuracy:  0.942, Validation Accuracy:  0.940, Loss:  0.049\n",
      "Epoch   1 Batch  126/134 - Train Accuracy:  0.929, Validation Accuracy:  0.944, Loss:  0.053\n",
      "Epoch   1 Batch  127/134 - Train Accuracy:  0.928, Validation Accuracy:  0.946, Loss:  0.052\n",
      "Epoch   1 Batch  128/134 - Train Accuracy:  0.933, Validation Accuracy:  0.940, Loss:  0.052\n",
      "Epoch   1 Batch  129/134 - Train Accuracy:  0.936, Validation Accuracy:  0.945, Loss:  0.053\n",
      "Epoch   1 Batch  130/134 - Train Accuracy:  0.936, Validation Accuracy:  0.947, Loss:  0.050\n",
      "Epoch   1 Batch  131/134 - Train Accuracy:  0.927, Validation Accuracy:  0.945, Loss:  0.053\n",
      "Epoch   1 Batch  132/134 - Train Accuracy:  0.939, Validation Accuracy:  0.946, Loss:  0.047\n",
      "Epoch   2 Batch    0/134 - Train Accuracy:  0.936, Validation Accuracy:  0.945, Loss:  0.050\n",
      "Epoch   2 Batch    1/134 - Train Accuracy:  0.924, Validation Accuracy:  0.944, Loss:  0.052\n",
      "Epoch   2 Batch    2/134 - Train Accuracy:  0.938, Validation Accuracy:  0.944, Loss:  0.048\n",
      "Epoch   2 Batch    3/134 - Train Accuracy:  0.938, Validation Accuracy:  0.943, Loss:  0.050\n",
      "Epoch   2 Batch    4/134 - Train Accuracy:  0.940, Validation Accuracy:  0.944, Loss:  0.049\n",
      "Epoch   2 Batch    5/134 - Train Accuracy:  0.936, Validation Accuracy:  0.944, Loss:  0.052\n",
      "Epoch   2 Batch    6/134 - Train Accuracy:  0.939, Validation Accuracy:  0.945, Loss:  0.044\n",
      "Epoch   2 Batch    7/134 - Train Accuracy:  0.941, Validation Accuracy:  0.944, Loss:  0.046\n",
      "Epoch   2 Batch    8/134 - Train Accuracy:  0.940, Validation Accuracy:  0.947, Loss:  0.045\n",
      "Epoch   2 Batch    9/134 - Train Accuracy:  0.940, Validation Accuracy:  0.947, Loss:  0.043\n",
      "Epoch   2 Batch   10/134 - Train Accuracy:  0.934, Validation Accuracy:  0.949, Loss:  0.050\n",
      "Epoch   2 Batch   11/134 - Train Accuracy:  0.932, Validation Accuracy:  0.949, Loss:  0.047\n",
      "Epoch   2 Batch   12/134 - Train Accuracy:  0.938, Validation Accuracy:  0.949, Loss:  0.045\n",
      "Epoch   2 Batch   13/134 - Train Accuracy:  0.940, Validation Accuracy:  0.950, Loss:  0.045\n",
      "Epoch   2 Batch   14/134 - Train Accuracy:  0.944, Validation Accuracy:  0.949, Loss:  0.048\n",
      "Epoch   2 Batch   15/134 - Train Accuracy:  0.943, Validation Accuracy:  0.946, Loss:  0.041\n",
      "Epoch   2 Batch   16/134 - Train Accuracy:  0.939, Validation Accuracy:  0.940, Loss:  0.042\n",
      "Epoch   2 Batch   17/134 - Train Accuracy:  0.938, Validation Accuracy:  0.944, Loss:  0.049\n",
      "Epoch   2 Batch   18/134 - Train Accuracy:  0.936, Validation Accuracy:  0.946, Loss:  0.046\n",
      "Epoch   2 Batch   19/134 - Train Accuracy:  0.938, Validation Accuracy:  0.942, Loss:  0.046\n",
      "Epoch   2 Batch   20/134 - Train Accuracy:  0.937, Validation Accuracy:  0.946, Loss:  0.043\n",
      "Epoch   2 Batch   21/134 - Train Accuracy:  0.935, Validation Accuracy:  0.947, Loss:  0.046\n",
      "Epoch   2 Batch   22/134 - Train Accuracy:  0.943, Validation Accuracy:  0.948, Loss:  0.044\n",
      "Epoch   2 Batch   23/134 - Train Accuracy:  0.944, Validation Accuracy:  0.946, Loss:  0.042\n",
      "Epoch   2 Batch   24/134 - Train Accuracy:  0.940, Validation Accuracy:  0.947, Loss:  0.047\n",
      "Epoch   2 Batch   25/134 - Train Accuracy:  0.935, Validation Accuracy:  0.951, Loss:  0.043\n",
      "Epoch   2 Batch   26/134 - Train Accuracy:  0.940, Validation Accuracy:  0.948, Loss:  0.047\n",
      "Epoch   2 Batch   27/134 - Train Accuracy:  0.936, Validation Accuracy:  0.945, Loss:  0.044\n",
      "Epoch   2 Batch   28/134 - Train Accuracy:  0.942, Validation Accuracy:  0.944, Loss:  0.047\n",
      "Epoch   2 Batch   29/134 - Train Accuracy:  0.948, Validation Accuracy:  0.952, Loss:  0.039\n",
      "Epoch   2 Batch   30/134 - Train Accuracy:  0.934, Validation Accuracy:  0.950, Loss:  0.045\n",
      "Epoch   2 Batch   31/134 - Train Accuracy:  0.938, Validation Accuracy:  0.951, Loss:  0.043\n",
      "Epoch   2 Batch   32/134 - Train Accuracy:  0.942, Validation Accuracy:  0.949, Loss:  0.045\n",
      "Epoch   2 Batch   33/134 - Train Accuracy:  0.933, Validation Accuracy:  0.943, Loss:  0.047\n",
      "Epoch   2 Batch   34/134 - Train Accuracy:  0.935, Validation Accuracy:  0.943, Loss:  0.049\n",
      "Epoch   2 Batch   35/134 - Train Accuracy:  0.945, Validation Accuracy:  0.944, Loss:  0.047\n",
      "Epoch   2 Batch   36/134 - Train Accuracy:  0.946, Validation Accuracy:  0.946, Loss:  0.044\n",
      "Epoch   2 Batch   37/134 - Train Accuracy:  0.939, Validation Accuracy:  0.948, Loss:  0.047\n",
      "Epoch   2 Batch   38/134 - Train Accuracy:  0.952, Validation Accuracy:  0.946, Loss:  0.041\n",
      "Epoch   2 Batch   39/134 - Train Accuracy:  0.942, Validation Accuracy:  0.944, Loss:  0.041\n",
      "Epoch   2 Batch   40/134 - Train Accuracy:  0.938, Validation Accuracy:  0.947, Loss:  0.043\n",
      "Epoch   2 Batch   41/134 - Train Accuracy:  0.932, Validation Accuracy:  0.943, Loss:  0.045\n",
      "Epoch   2 Batch   42/134 - Train Accuracy:  0.933, Validation Accuracy:  0.942, Loss:  0.042\n",
      "Epoch   2 Batch   43/134 - Train Accuracy:  0.939, Validation Accuracy:  0.945, Loss:  0.043\n",
      "Epoch   2 Batch   44/134 - Train Accuracy:  0.947, Validation Accuracy:  0.947, Loss:  0.042\n",
      "Epoch   2 Batch   45/134 - Train Accuracy:  0.947, Validation Accuracy:  0.947, Loss:  0.038\n",
      "Epoch   2 Batch   46/134 - Train Accuracy:  0.945, Validation Accuracy:  0.950, Loss:  0.043\n",
      "Epoch   2 Batch   47/134 - Train Accuracy:  0.941, Validation Accuracy:  0.946, Loss:  0.042\n",
      "Epoch   2 Batch   48/134 - Train Accuracy:  0.942, Validation Accuracy:  0.947, Loss:  0.044\n",
      "Epoch   2 Batch   49/134 - Train Accuracy:  0.944, Validation Accuracy:  0.946, Loss:  0.040\n",
      "Epoch   2 Batch   50/134 - Train Accuracy:  0.948, Validation Accuracy:  0.946, Loss:  0.041\n",
      "Epoch   2 Batch   51/134 - Train Accuracy:  0.947, Validation Accuracy:  0.946, Loss:  0.041\n",
      "Epoch   2 Batch   52/134 - Train Accuracy:  0.944, Validation Accuracy:  0.946, Loss:  0.041\n",
      "Epoch   2 Batch   53/134 - Train Accuracy:  0.951, Validation Accuracy:  0.948, Loss:  0.038\n",
      "Epoch   2 Batch   54/134 - Train Accuracy:  0.942, Validation Accuracy:  0.950, Loss:  0.043\n",
      "Epoch   2 Batch   55/134 - Train Accuracy:  0.953, Validation Accuracy:  0.951, Loss:  0.041\n",
      "Epoch   2 Batch   56/134 - Train Accuracy:  0.944, Validation Accuracy:  0.951, Loss:  0.039\n",
      "Epoch   2 Batch   57/134 - Train Accuracy:  0.951, Validation Accuracy:  0.950, Loss:  0.037\n",
      "Epoch   2 Batch   58/134 - Train Accuracy:  0.943, Validation Accuracy:  0.950, Loss:  0.039\n",
      "Epoch   2 Batch   59/134 - Train Accuracy:  0.934, Validation Accuracy:  0.951, Loss:  0.043\n",
      "Epoch   2 Batch   60/134 - Train Accuracy:  0.939, Validation Accuracy:  0.950, Loss:  0.039\n",
      "Epoch   2 Batch   61/134 - Train Accuracy:  0.946, Validation Accuracy:  0.953, Loss:  0.037\n",
      "Epoch   2 Batch   62/134 - Train Accuracy:  0.933, Validation Accuracy:  0.953, Loss:  0.039\n",
      "Epoch   2 Batch   63/134 - Train Accuracy:  0.941, Validation Accuracy:  0.950, Loss:  0.036\n",
      "Epoch   2 Batch   64/134 - Train Accuracy:  0.939, Validation Accuracy:  0.947, Loss:  0.039\n",
      "Epoch   2 Batch   65/134 - Train Accuracy:  0.932, Validation Accuracy:  0.949, Loss:  0.041\n",
      "Epoch   2 Batch   66/134 - Train Accuracy:  0.946, Validation Accuracy:  0.953, Loss:  0.037\n",
      "Epoch   2 Batch   67/134 - Train Accuracy:  0.940, Validation Accuracy:  0.956, Loss:  0.039\n",
      "Epoch   2 Batch   68/134 - Train Accuracy:  0.941, Validation Accuracy:  0.954, Loss:  0.040\n",
      "Epoch   2 Batch   69/134 - Train Accuracy:  0.942, Validation Accuracy:  0.951, Loss:  0.038\n",
      "Epoch   2 Batch   70/134 - Train Accuracy:  0.944, Validation Accuracy:  0.946, Loss:  0.040\n",
      "Epoch   2 Batch   71/134 - Train Accuracy:  0.954, Validation Accuracy:  0.949, Loss:  0.035\n",
      "Epoch   2 Batch   72/134 - Train Accuracy:  0.944, Validation Accuracy:  0.950, Loss:  0.037\n",
      "Epoch   2 Batch   73/134 - Train Accuracy:  0.945, Validation Accuracy:  0.952, Loss:  0.038\n",
      "Epoch   2 Batch   74/134 - Train Accuracy:  0.944, Validation Accuracy:  0.953, Loss:  0.040\n",
      "Epoch   2 Batch   75/134 - Train Accuracy:  0.952, Validation Accuracy:  0.955, Loss:  0.034\n",
      "Epoch   2 Batch   76/134 - Train Accuracy:  0.959, Validation Accuracy:  0.956, Loss:  0.034\n",
      "Epoch   2 Batch   77/134 - Train Accuracy:  0.945, Validation Accuracy:  0.954, Loss:  0.036\n",
      "Epoch   2 Batch   78/134 - Train Accuracy:  0.943, Validation Accuracy:  0.956, Loss:  0.038\n",
      "Epoch   2 Batch   79/134 - Train Accuracy:  0.952, Validation Accuracy:  0.958, Loss:  0.036\n",
      "Epoch   2 Batch   80/134 - Train Accuracy:  0.953, Validation Accuracy:  0.960, Loss:  0.036\n",
      "Epoch   2 Batch   81/134 - Train Accuracy:  0.955, Validation Accuracy:  0.960, Loss:  0.036\n",
      "Epoch   2 Batch   82/134 - Train Accuracy:  0.952, Validation Accuracy:  0.960, Loss:  0.035\n",
      "Epoch   2 Batch   83/134 - Train Accuracy:  0.945, Validation Accuracy:  0.960, Loss:  0.037\n",
      "Epoch   2 Batch   84/134 - Train Accuracy:  0.946, Validation Accuracy:  0.957, Loss:  0.035\n",
      "Epoch   2 Batch   85/134 - Train Accuracy:  0.946, Validation Accuracy:  0.957, Loss:  0.037\n",
      "Epoch   2 Batch   86/134 - Train Accuracy:  0.949, Validation Accuracy:  0.957, Loss:  0.033\n",
      "Epoch   2 Batch   87/134 - Train Accuracy:  0.939, Validation Accuracy:  0.957, Loss:  0.042\n",
      "Epoch   2 Batch   88/134 - Train Accuracy:  0.958, Validation Accuracy:  0.961, Loss:  0.032\n",
      "Epoch   2 Batch   89/134 - Train Accuracy:  0.949, Validation Accuracy:  0.961, Loss:  0.035\n",
      "Epoch   2 Batch   90/134 - Train Accuracy:  0.946, Validation Accuracy:  0.958, Loss:  0.036\n",
      "Epoch   2 Batch   91/134 - Train Accuracy:  0.956, Validation Accuracy:  0.958, Loss:  0.029\n",
      "Epoch   2 Batch   92/134 - Train Accuracy:  0.955, Validation Accuracy:  0.959, Loss:  0.034\n",
      "Epoch   2 Batch   93/134 - Train Accuracy:  0.948, Validation Accuracy:  0.958, Loss:  0.034\n",
      "Epoch   2 Batch   94/134 - Train Accuracy:  0.946, Validation Accuracy:  0.957, Loss:  0.035\n",
      "Epoch   2 Batch   95/134 - Train Accuracy:  0.951, Validation Accuracy:  0.959, Loss:  0.034\n",
      "Epoch   2 Batch   96/134 - Train Accuracy:  0.948, Validation Accuracy:  0.957, Loss:  0.034\n",
      "Epoch   2 Batch   97/134 - Train Accuracy:  0.953, Validation Accuracy:  0.955, Loss:  0.034\n",
      "Epoch   2 Batch   98/134 - Train Accuracy:  0.946, Validation Accuracy:  0.957, Loss:  0.038\n",
      "Epoch   2 Batch   99/134 - Train Accuracy:  0.956, Validation Accuracy:  0.956, Loss:  0.034\n",
      "Epoch   2 Batch  100/134 - Train Accuracy:  0.963, Validation Accuracy:  0.955, Loss:  0.035\n",
      "Epoch   2 Batch  101/134 - Train Accuracy:  0.959, Validation Accuracy:  0.956, Loss:  0.034\n",
      "Epoch   2 Batch  102/134 - Train Accuracy:  0.952, Validation Accuracy:  0.953, Loss:  0.034\n",
      "Epoch   2 Batch  103/134 - Train Accuracy:  0.948, Validation Accuracy:  0.957, Loss:  0.036\n",
      "Epoch   2 Batch  104/134 - Train Accuracy:  0.952, Validation Accuracy:  0.955, Loss:  0.033\n",
      "Epoch   2 Batch  105/134 - Train Accuracy:  0.944, Validation Accuracy:  0.957, Loss:  0.038\n",
      "Epoch   2 Batch  106/134 - Train Accuracy:  0.950, Validation Accuracy:  0.961, Loss:  0.033\n",
      "Epoch   2 Batch  107/134 - Train Accuracy:  0.952, Validation Accuracy:  0.961, Loss:  0.035\n",
      "Epoch   2 Batch  108/134 - Train Accuracy:  0.947, Validation Accuracy:  0.960, Loss:  0.034\n",
      "Epoch   2 Batch  109/134 - Train Accuracy:  0.953, Validation Accuracy:  0.960, Loss:  0.034\n",
      "Epoch   2 Batch  110/134 - Train Accuracy:  0.953, Validation Accuracy:  0.960, Loss:  0.034\n",
      "Epoch   2 Batch  111/134 - Train Accuracy:  0.950, Validation Accuracy:  0.959, Loss:  0.035\n",
      "Epoch   2 Batch  112/134 - Train Accuracy:  0.956, Validation Accuracy:  0.960, Loss:  0.033\n",
      "Epoch   2 Batch  113/134 - Train Accuracy:  0.956, Validation Accuracy:  0.957, Loss:  0.033\n",
      "Epoch   2 Batch  114/134 - Train Accuracy:  0.956, Validation Accuracy:  0.960, Loss:  0.034\n",
      "Epoch   2 Batch  115/134 - Train Accuracy:  0.948, Validation Accuracy:  0.959, Loss:  0.034\n",
      "Epoch   2 Batch  116/134 - Train Accuracy:  0.961, Validation Accuracy:  0.957, Loss:  0.033\n",
      "Epoch   2 Batch  117/134 - Train Accuracy:  0.958, Validation Accuracy:  0.958, Loss:  0.028\n",
      "Epoch   2 Batch  118/134 - Train Accuracy:  0.955, Validation Accuracy:  0.962, Loss:  0.033\n",
      "Epoch   2 Batch  119/134 - Train Accuracy:  0.959, Validation Accuracy:  0.961, Loss:  0.029\n",
      "Epoch   2 Batch  120/134 - Train Accuracy:  0.954, Validation Accuracy:  0.958, Loss:  0.034\n",
      "Epoch   2 Batch  121/134 - Train Accuracy:  0.953, Validation Accuracy:  0.961, Loss:  0.030\n",
      "Epoch   2 Batch  122/134 - Train Accuracy:  0.954, Validation Accuracy:  0.962, Loss:  0.033\n",
      "Epoch   2 Batch  123/134 - Train Accuracy:  0.957, Validation Accuracy:  0.964, Loss:  0.031\n",
      "Epoch   2 Batch  124/134 - Train Accuracy:  0.959, Validation Accuracy:  0.964, Loss:  0.030\n",
      "Epoch   2 Batch  125/134 - Train Accuracy:  0.961, Validation Accuracy:  0.962, Loss:  0.028\n",
      "Epoch   2 Batch  126/134 - Train Accuracy:  0.947, Validation Accuracy:  0.960, Loss:  0.033\n",
      "Epoch   2 Batch  127/134 - Train Accuracy:  0.949, Validation Accuracy:  0.958, Loss:  0.033\n",
      "Epoch   2 Batch  128/134 - Train Accuracy:  0.951, Validation Accuracy:  0.954, Loss:  0.033\n",
      "Epoch   2 Batch  129/134 - Train Accuracy:  0.958, Validation Accuracy:  0.958, Loss:  0.033\n",
      "Epoch   2 Batch  130/134 - Train Accuracy:  0.955, Validation Accuracy:  0.960, Loss:  0.032\n",
      "Epoch   2 Batch  131/134 - Train Accuracy:  0.952, Validation Accuracy:  0.963, Loss:  0.032\n",
      "Epoch   2 Batch  132/134 - Train Accuracy:  0.959, Validation Accuracy:  0.959, Loss:  0.030\n",
      "Model Trained and Saved\n"
     ]
    }
   ],
   "source": [
    "\"\"\"\n",
    "DON'T MODIFY ANYTHING IN THIS CELL\n",
    "\"\"\"\n",
    "import time\n",
    "\n",
    "def get_accuracy(target, logits):\n",
    "    \"\"\"\n",
    "    Calculate accuracy\n",
    "    \"\"\"\n",
    "    max_seq = max(target.shape[1], logits.shape[1])\n",
    "    if max_seq - target.shape[1]:\n",
    "        target = np.pad(\n",
    "            target,\n",
    "            [(0,0),(0,max_seq - target.shape[1])],\n",
    "            'constant')\n",
    "    if max_seq - logits.shape[1]:\n",
    "        logits = np.pad(\n",
    "            logits,\n",
    "            [(0,0),(0,max_seq - logits.shape[1]), (0,0)],\n",
    "            'constant')\n",
    "\n",
    "    return np.mean(np.equal(target, np.argmax(logits, 2)))\n",
    "\n",
    "train_source = source_int_text[batch_size:]\n",
    "train_target = target_int_text[batch_size:]\n",
    "\n",
    "valid_source = helper.pad_sentence_batch(source_int_text[:batch_size])\n",
    "valid_target = helper.pad_sentence_batch(target_int_text[:batch_size])\n",
    "\n",
    "with tf.Session(graph=train_graph) as sess:\n",
    "    sess.run(tf.global_variables_initializer())\n",
    "\n",
    "    for epoch_i in range(epochs):\n",
    "        for batch_i, (source_batch, target_batch) in enumerate(\n",
    "                helper.batch_data(train_source, train_target, batch_size)):\n",
    "            start_time = time.time()\n",
    "            \n",
    "            _, loss = sess.run(\n",
    "                [train_op, cost],\n",
    "                {input_data: source_batch,\n",
    "                 targets: target_batch,\n",
    "                 lr: learning_rate,\n",
    "                 sequence_length: target_batch.shape[1],\n",
    "                 keep_prob: keep_probability})\n",
    "            \n",
    "            batch_train_logits = sess.run(\n",
    "                inference_logits,\n",
    "                {input_data: source_batch, keep_prob: 1.0})\n",
    "            batch_valid_logits = sess.run(\n",
    "                inference_logits,\n",
    "                {input_data: valid_source, keep_prob: 1.0})\n",
    "                \n",
    "            train_acc = get_accuracy(target_batch, batch_train_logits)\n",
    "            valid_acc = get_accuracy(np.array(valid_target), batch_valid_logits)\n",
    "            end_time = time.time()\n",
    "            print('Epoch {:>3} Batch {:>4}/{} - Train Accuracy: {:>6.3f}, Validation Accuracy: {:>6.3f}, Loss: {:>6.3f}'\n",
    "                  .format(epoch_i, batch_i, len(source_int_text) // batch_size, train_acc, valid_acc, loss))\n",
    "\n",
    "    # Save Model\n",
    "    saver = tf.train.Saver()\n",
    "    saver.save(sess, save_path)\n",
    "    print('Model Trained and Saved')"
   ]
  },
  {
   "cell_type": "markdown",
   "metadata": {
    "deletable": true,
    "editable": true
   },
   "source": [
    "### Save Parameters\n",
    "Save the `batch_size` and `save_path` parameters for inference."
   ]
  },
  {
   "cell_type": "code",
   "execution_count": 54,
   "metadata": {
    "collapsed": false,
    "deletable": true,
    "editable": true
   },
   "outputs": [],
   "source": [
    "\"\"\"\n",
    "DON'T MODIFY ANYTHING IN THIS CELL\n",
    "\"\"\"\n",
    "# Save parameters for checkpoint\n",
    "helper.save_params(save_path)"
   ]
  },
  {
   "cell_type": "markdown",
   "metadata": {
    "deletable": true,
    "editable": true
   },
   "source": [
    "# Checkpoint"
   ]
  },
  {
   "cell_type": "code",
   "execution_count": 55,
   "metadata": {
    "collapsed": false,
    "deletable": true,
    "editable": true
   },
   "outputs": [],
   "source": [
    "\"\"\"\n",
    "DON'T MODIFY ANYTHING IN THIS CELL\n",
    "\"\"\"\n",
    "import tensorflow as tf\n",
    "import numpy as np\n",
    "import helper\n",
    "import problem_unittests as tests\n",
    "\n",
    "_, (source_vocab_to_int, target_vocab_to_int), (source_int_to_vocab, target_int_to_vocab) = helper.load_preprocess()\n",
    "load_path = helper.load_params()"
   ]
  },
  {
   "cell_type": "markdown",
   "metadata": {
    "deletable": true,
    "editable": true
   },
   "source": [
    "## Sentence to Sequence\n",
    "To feed a sentence into the model for translation, you first need to preprocess it.  Implement the function `sentence_to_seq()` to preprocess new sentences.\n",
    "\n",
    "- Convert the sentence to lowercase\n",
    "- Convert words into ids using `vocab_to_int`\n",
    " - Convert words not in the vocabulary, to the `<UNK>` word id."
   ]
  },
  {
   "cell_type": "code",
   "execution_count": 56,
   "metadata": {
    "collapsed": false,
    "deletable": true,
    "editable": true
   },
   "outputs": [
    {
     "name": "stdout",
     "output_type": "stream",
     "text": [
      "Tests Passed\n"
     ]
    }
   ],
   "source": [
    "def sentence_to_seq(sentence, vocab_to_int):\n",
    "    \"\"\"\n",
    "    Convert a sentence to a sequence of ids\n",
    "    :param sentence: String\n",
    "    :param vocab_to_int: Dictionary to go from the words to an id\n",
    "    :return: List of word ids\n",
    "    \"\"\"\n",
    "    # TODO: Implement Function\n",
    "    unk_id = vocab_to_int['<UNK>']\n",
    "    seq = [ vocab_to_int.get(word, unk_id) for word in sentence.lower().split() ]\n",
    "    return seq\n",
    "\n",
    "\n",
    "\"\"\"\n",
    "DON'T MODIFY ANYTHING IN THIS CELL THAT IS BELOW THIS LINE\n",
    "\"\"\"\n",
    "tests.test_sentence_to_seq(sentence_to_seq)"
   ]
  },
  {
   "cell_type": "markdown",
   "metadata": {
    "deletable": true,
    "editable": true
   },
   "source": [
    "## Translate\n",
    "This will translate `translate_sentence` from English to French."
   ]
  },
  {
   "cell_type": "code",
   "execution_count": 61,
   "metadata": {
    "collapsed": false,
    "deletable": true,
    "editable": true
   },
   "outputs": [
    {
     "name": "stdout",
     "output_type": "stream",
     "text": [
      "Input\n",
      "  Word Ids:      [13, 45, 65, 184, 135, 102, 212]\n",
      "  English Words: ['he', 'saw', 'a', 'new', 'green', 'car', '.']\n",
      "\n",
      "Prediction\n",
      "  Word Ids:      [179, 290, 166, 164, 307, 297, 92, 347, 1]\n",
      "  French Words: ['il', 'a', 'vu', 'une', 'nouvelle', 'voiture', 'verte', '.', '<EOS>']\n"
     ]
    }
   ],
   "source": [
    "translate_sentence = 'he saw a new green car .'\n",
    "\n",
    "\n",
    "\"\"\"\n",
    "DON'T MODIFY ANYTHING IN THIS CELL\n",
    "\"\"\"\n",
    "translate_sentence = sentence_to_seq(translate_sentence, source_vocab_to_int)\n",
    "\n",
    "loaded_graph = tf.Graph()\n",
    "with tf.Session(graph=loaded_graph) as sess:\n",
    "    # Load saved model\n",
    "    loader = tf.train.import_meta_graph(load_path + '.meta')\n",
    "    loader.restore(sess, load_path)\n",
    "\n",
    "    input_data = loaded_graph.get_tensor_by_name('input:0')\n",
    "    logits = loaded_graph.get_tensor_by_name('logits:0')\n",
    "    keep_prob = loaded_graph.get_tensor_by_name('keep_prob:0')\n",
    "\n",
    "    translate_logits = sess.run(logits, {input_data: [translate_sentence], keep_prob: 1.0})[0]\n",
    "\n",
    "print('Input')\n",
    "print('  Word Ids:      {}'.format([i for i in translate_sentence]))\n",
    "print('  English Words: {}'.format([source_int_to_vocab[i] for i in translate_sentence]))\n",
    "\n",
    "print('\\nPrediction')\n",
    "print('  Word Ids:      {}'.format([i for i in np.argmax(translate_logits, 1)]))\n",
    "print('  French Words: {}'.format([target_int_to_vocab[i] for i in np.argmax(translate_logits, 1)]))"
   ]
  },
  {
   "cell_type": "markdown",
   "metadata": {
    "deletable": true,
    "editable": true
   },
   "source": [
    "## Imperfect Translation\n",
    "You might notice that some sentences translate better than others.  Since the dataset you're using only has a vocabulary of 227 English words of the thousands that you use, you're only going to see good results using these words.  For this project, you don't need a perfect translation. However, if you want to create a better translation model, you'll need better data.\n",
    "\n",
    "You can train on the [WMT10 French-English corpus](http://www.statmt.org/wmt10/training-giga-fren.tar).  This dataset has more vocabulary and richer in topics discussed.  However, this will take you days to train, so make sure you've a GPU and the neural network is performing well on dataset we provided.  Just make sure you play with the WMT10 corpus after you've submitted this project.\n",
    "## Submitting This Project\n",
    "When submitting this project, make sure to run all the cells before saving the notebook. Save the notebook file as \"dlnd_language_translation.ipynb\" and save it as a HTML file under \"File\" -> \"Download as\". Include the \"helper.py\" and \"problem_unittests.py\" files in your submission."
   ]
  }
 ],
 "metadata": {
  "kernelspec": {
   "display_name": "Python 3",
   "language": "python",
   "name": "python3"
  },
  "language_info": {
   "codemirror_mode": {
    "name": "ipython",
    "version": 3
   },
   "file_extension": ".py",
   "mimetype": "text/x-python",
   "name": "python",
   "nbconvert_exporter": "python",
   "pygments_lexer": "ipython3",
   "version": "3.5.3"
  }
 },
 "nbformat": 4,
 "nbformat_minor": 0
}
